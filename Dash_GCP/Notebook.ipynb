{
 "cells": [
  {
   "cell_type": "markdown",
   "metadata": {},
   "source": [
    "## Part 1: A simple app"
   ]
  },
  {
   "cell_type": "markdown",
   "metadata": {},
   "source": [
    "### 1.1 Building a model"
   ]
  },
  {
   "cell_type": "code",
   "execution_count": 1,
   "metadata": {},
   "outputs": [],
   "source": [
    "import requests\n",
    "import base64\n",
    "import io\n",
    "from PIL import Image\n",
    "from sklearn import datasets\n",
    "import flask\n",
    "\n",
    "# Load Iris dataset \n",
    "data = datasets.load_iris()\n",
    "X = data.data\n",
    "y = data.target\n",
    "tn = data.target_names\n",
    "\n",
    "# Load some Iris Pictures from my Github\n",
    "Setosa = requests.get(\"https://raw.githubusercontent.com/Frank-Xu-Huaze/Medium/master/Dash_GCP/Setosa.png\").content\n",
    "Versicolor = requests.get(\"https://raw.githubusercontent.com/Frank-Xu-Huaze/Medium/master/Dash_GCP/Versicolor.png\").content\n",
    "Virginica = requests.get(\"https://raw.githubusercontent.com/Frank-Xu-Huaze/Medium/master/Dash_GCP/Virginica.png\").content\n",
    "pic = [Setosa, Versicolor, Virginica]"
   ]
  },
  {
   "cell_type": "code",
   "execution_count": 2,
   "metadata": {},
   "outputs": [
    {
     "name": "stdout",
     "output_type": "stream",
     "text": [
      "Model score on test set: 0.9\n"
     ]
    }
   ],
   "source": [
    "# Train a simple model for this dataset\n",
    "from sklearn.linear_model import LogisticRegression\n",
    "from sklearn.model_selection import train_test_split\n",
    "X_train, X_test, y_train, y_test = train_test_split(X, y, test_size=0.2, random_state=124)\n",
    "lm = LogisticRegression(max_iter=150)\n",
    "lm.fit(X_train, y_train)\n",
    "print('Model score on test set: {}'.format(lm.score(X_test, y_test)))"
   ]
  },
  {
   "cell_type": "markdown",
   "metadata": {},
   "source": [
    "### 1.2 Building an App"
   ]
  },
  {
   "cell_type": "code",
   "execution_count": 3,
   "metadata": {},
   "outputs": [
    {
     "name": "stdout",
     "output_type": "stream",
     "text": [
      "Running on http://127.0.0.1:8050/\n",
      "Debugger PIN: 901-166-529\n",
      " * Serving Flask app \"__main__\" (lazy loading)\n",
      " * Environment: production\n",
      "\u001b[31m   WARNING: This is a development server. Do not use it in a production deployment.\u001b[0m\n",
      "\u001b[2m   Use a production WSGI server instead.\u001b[0m\n",
      " * Debug mode: on\n"
     ]
    }
   ],
   "source": [
    "import dash\n",
    "import dash_core_components as dcc\n",
    "import dash_html_components as html\n",
    "from dash.dependencies import Input, Output, State\n",
    "\n",
    "# Initialize the app\n",
    "server = flask.Flask(__name__)\n",
    "app = dash.Dash(__name__, server=server)\n",
    "\n",
    "# Set the app layout\n",
    "app.layout = html.Div([\n",
    "    html.H1(children=\"Guess the Iris Species App\"), # Title\n",
    "    html.Div(children=\"Powered by Frank Xu\"), # Sub title\n",
    "    html.Hr(), # Delimiter\n",
    "    dcc.Input(id=\"input_sepal_length\", # input value 1\n",
    "              type=\"number\", \n",
    "              placeholder=\"input sepal length\"),\n",
    "    dcc.Input(id=\"input_sepal_width\", # input value 2\n",
    "              type=\"number\", \n",
    "              placeholder=\"input sepal width\"),\n",
    "    dcc.Input(id=\"input_petal_length\", # input value 3\n",
    "              type=\"number\", \n",
    "              placeholder=\"input petal length\"),\n",
    "    dcc.Input(id=\"input_petal_width\", # input value 4\n",
    "              type=\"number\", \n",
    "              placeholder=\"input petal width\"),\n",
    "    html.Button('Go', id='show', style={'width':'5vw', 'display': 'inline-block'}), # Button Go\n",
    "    html.Hr(),\n",
    "    html.Div(id='out')] # Output area\n",
    ")\n",
    "\n",
    "# A callback is the app's interactive part, \n",
    "# whereas in this one it takes inputs and predict the result.\n",
    "@app.callback(\n",
    "    Output(\"out\", \"children\"),\n",
    "    [Input(\"show\", \"n_clicks\")],\n",
    "    state=[State(\"input_sepal_length\", \"value\"),\n",
    "           State(\"input_sepal_width\", \"value\"),\n",
    "           State(\"input_petal_length\", \"value\"),\n",
    "           State(\"input_petal_width\", \"value\")])\n",
    "def predict(n_clicks, sl, sw, pl, pw):\n",
    "    if n_clicks is None: # If the button is not clicked\n",
    "        return html.Div('Please input the values to see prediction.')\n",
    "    pred = lm.predict([[sl,sw,pl,pw]])[0]\n",
    "    im = Image.open(io.BytesIO(pic[pred]))\n",
    "    return html.Div([ # return the string and picture of the result\n",
    "        html.Div('Best guess according to your input: {}'.format(tn[pred])), \n",
    "        html.Hr(),\n",
    "        html.Img(src=im, style={'height':'20%', 'width':'20%'})\n",
    "    ])\n",
    "\n",
    "# Finalizing the app\n",
    "if __name__ == '__main__':\n",
    "    app.run_server(debug=True, use_reloader=False)"
   ]
  },
  {
   "cell_type": "markdown",
   "metadata": {},
   "source": [
    "### 1.3 Stick everything into a main.py file"
   ]
  },
  {
   "cell_type": "code",
   "execution_count": null,
   "metadata": {},
   "outputs": [],
   "source": []
  }
 ],
 "metadata": {
  "kernelspec": {
   "display_name": "Python 3",
   "language": "python",
   "name": "python3"
  },
  "language_info": {
   "codemirror_mode": {
    "name": "ipython",
    "version": 3
   },
   "file_extension": ".py",
   "mimetype": "text/x-python",
   "name": "python",
   "nbconvert_exporter": "python",
   "pygments_lexer": "ipython3",
   "version": "3.7.3"
  }
 },
 "nbformat": 4,
 "nbformat_minor": 4
}
